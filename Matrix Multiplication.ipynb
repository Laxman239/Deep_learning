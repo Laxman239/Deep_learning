{
 "cells": [
  {
   "cell_type": "markdown",
   "id": "8b48099f-5b32-4875-a0d1-918109f9f7e6",
   "metadata": {},
   "source": [
    "Matrix Multiplication"
   ]
  },
  {
   "cell_type": "code",
   "execution_count": 1,
   "id": "5ac146c3-63c6-45ea-919e-84106c6c54e8",
   "metadata": {},
   "outputs": [],
   "source": [
    "import numpy as np"
   ]
  },
  {
   "cell_type": "code",
   "execution_count": 2,
   "id": "259fc1ca-2c73-41bb-9df7-29a166a9d48c",
   "metadata": {},
   "outputs": [],
   "source": [
    "revenue = np.array([[200, 220, 250], [68, 79, 105], [110, 140, 180], [80, 85, 90]])\n",
    "INR = np.array([75])"
   ]
  },
  {
   "cell_type": "code",
   "execution_count": 3,
   "id": "cac228cb-6d34-41c6-a00d-847aefaf119a",
   "metadata": {},
   "outputs": [
    {
     "data": {
      "text/plain": [
       "array([[15000, 16500, 18750],\n",
       "       [ 5100,  5925,  7875],\n",
       "       [ 8250, 10500, 13500],\n",
       "       [ 6000,  6375,  6750]])"
      ]
     },
     "execution_count": 3,
     "metadata": {},
     "output_type": "execute_result"
    }
   ],
   "source": [
    "#Matrix Multiplication\n",
    "revenue_in_INR = revenue*INR\n",
    "revenue_in_INR"
   ]
  },
  {
   "cell_type": "code",
   "execution_count": 4,
   "id": "4dccbf65-25c5-4dee-81b5-6bb26ad5331c",
   "metadata": {},
   "outputs": [],
   "source": [
    "units = np.array([[50, 60, 25], [10, 13, 5], [40, 70, 52]])\n",
    "price_per_unit = np.array([20, 30, 15])"
   ]
  },
  {
   "cell_type": "code",
   "execution_count": 5,
   "id": "38c7e474-e8cd-42c2-ba8e-ae1d8240c878",
   "metadata": {},
   "outputs": [
    {
     "data": {
      "text/plain": [
       "array([1900, 2640, 1430])"
      ]
     },
     "execution_count": 5,
     "metadata": {},
     "output_type": "execute_result"
    }
   ],
   "source": [
    "total_sales = np.dot(price_per_unit, units)\n",
    "total_sales"
   ]
  },
  {
   "cell_type": "code",
   "execution_count": null,
   "id": "f6f0fa0b-922e-4285-8924-d52ec57188c6",
   "metadata": {},
   "outputs": [],
   "source": []
  }
 ],
 "metadata": {
  "kernelspec": {
   "display_name": "Python 3 (ipykernel)",
   "language": "python",
   "name": "python3"
  },
  "language_info": {
   "codemirror_mode": {
    "name": "ipython",
    "version": 3
   },
   "file_extension": ".py",
   "mimetype": "text/x-python",
   "name": "python",
   "nbconvert_exporter": "python",
   "pygments_lexer": "ipython3",
   "version": "3.13.2"
  }
 },
 "nbformat": 4,
 "nbformat_minor": 5
}
