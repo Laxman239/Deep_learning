{
 "cells": [
  {
   "cell_type": "markdown",
   "id": "73abd74a-350c-4198-9b06-4ae441933ccf",
   "metadata": {},
   "source": [
    "Loss or Cost Functions"
   ]
  },
  {
   "cell_type": "code",
   "execution_count": 27,
   "id": "6d82999c-ebcf-49cc-8e33-a5307d71292e",
   "metadata": {},
   "outputs": [],
   "source": [
    "y_predicted = [1,1,0,0,1]\n",
    "y_true = [0.30,0.7,1,0,0.5]"
   ]
  },
  {
   "cell_type": "markdown",
   "id": "0b0a7670-0aff-44c5-94f3-dfc99b555d3a",
   "metadata": {},
   "source": [
    "Mean Square Error"
   ]
  },
  {
   "cell_type": "code",
   "execution_count": 28,
   "id": "98a97cd8-687a-433f-9b55-e3fa2fe14c57",
   "metadata": {},
   "outputs": [],
   "source": [
    "def mse(y_true, y_predicted):\n",
    "    total_error = 0\n",
    "    for yt, yp in zip(y_true, y_predicted):\n",
    "        total_error += (yt-yp)**2\n",
    "    mse = total_error/len(y_predicted)\n",
    "    return mse"
   ]
  },
  {
   "cell_type": "code",
   "execution_count": 29,
   "id": "780fce5c-6b0c-4d38-be64-ea4b47ff6763",
   "metadata": {},
   "outputs": [
    {
     "data": {
      "text/plain": [
       "0.366"
      ]
     },
     "execution_count": 29,
     "metadata": {},
     "output_type": "execute_result"
    }
   ],
   "source": [
    "mse(y_true, y_predicted)"
   ]
  },
  {
   "cell_type": "code",
   "execution_count": 9,
   "id": "9c29d879-12cb-4b3d-8437-0b73de248272",
   "metadata": {},
   "outputs": [],
   "source": [
    "import numpy as np"
   ]
  },
  {
   "cell_type": "markdown",
   "id": "ec6c417c-1c4b-4cd3-8de2-f0a80fdcca34",
   "metadata": {},
   "source": [
    "Computing Mean Square Error Using Numpy"
   ]
  },
  {
   "cell_type": "code",
   "execution_count": 10,
   "id": "86f06ee6-0ee9-4076-ae1a-116bda11242a",
   "metadata": {},
   "outputs": [
    {
     "data": {
      "text/plain": [
       "np.float64(0.366)"
      ]
     },
     "execution_count": 10,
     "metadata": {},
     "output_type": "execute_result"
    }
   ],
   "source": [
    "y_true = np.array(y_true)\n",
    "y_predicted = np.array(y_predicted)\n",
    "\n",
    "mae = np.mean(np.square(y_true - y_predicted))\n",
    "mae"
   ]
  },
  {
   "cell_type": "markdown",
   "id": "f247f366-d7d6-471d-a2fe-812d5cfc6cd9",
   "metadata": {},
   "source": [
    "Mean Absolute Error"
   ]
  },
  {
   "cell_type": "code",
   "execution_count": 11,
   "id": "2054015f-5ed1-43f1-bf48-93105b3f5337",
   "metadata": {},
   "outputs": [],
   "source": [
    "def mae(y_true, y_predicted):\n",
    "    total_error = 0\n",
    "    for yt, yp in zip(y_true, y_predicted):\n",
    "        total_error += abs(yt-yp)\n",
    "        mae = total_error/len(y_predicted)\n",
    "    return mae"
   ]
  },
  {
   "cell_type": "code",
   "execution_count": 12,
   "id": "6cc6b59b-c1c2-42f4-ad4b-21b3cb42ce39",
   "metadata": {},
   "outputs": [
    {
     "data": {
      "text/plain": [
       "np.float64(0.5)"
      ]
     },
     "execution_count": 12,
     "metadata": {},
     "output_type": "execute_result"
    }
   ],
   "source": [
    "mae(y_true, y_predicted)"
   ]
  },
  {
   "cell_type": "code",
   "execution_count": 31,
   "id": "4886fe8c-8a78-46f2-9ae4-5eecb5b7c0f0",
   "metadata": {},
   "outputs": [
    {
     "data": {
      "text/plain": [
       "np.float64(0.5)"
      ]
     },
     "execution_count": 31,
     "metadata": {},
     "output_type": "execute_result"
    }
   ],
   "source": [
    "#Mean Absolute Error using Numpy\n",
    "y_predicted_new = np.array(y_predicted_new)\n",
    "y_true = np.array(y_true)\n",
    "\n",
    "np.mean(np.abs(y_true - y_predicted))"
   ]
  },
  {
   "cell_type": "markdown",
   "id": "e668bfd7-8b3a-4aa0-8a6b-b4d883de76d2",
   "metadata": {},
   "source": [
    "Log Loss or Binary Cross Entropy "
   ]
  },
  {
   "cell_type": "code",
   "execution_count": 14,
   "id": "bed01569-5bf7-45ad-acf6-67eda97a66ba",
   "metadata": {},
   "outputs": [
    {
     "name": "stderr",
     "output_type": "stream",
     "text": [
      "C:\\Users\\laxma\\AppData\\Local\\Temp\\ipykernel_18848\\2933082444.py:1: RuntimeWarning: divide by zero encountered in log\n",
      "  np.log(0)\n"
     ]
    },
    {
     "data": {
      "text/plain": [
       "np.float64(-inf)"
      ]
     },
     "execution_count": 14,
     "metadata": {},
     "output_type": "execute_result"
    }
   ],
   "source": [
    "np.log(0)"
   ]
  },
  {
   "cell_type": "code",
   "execution_count": 15,
   "id": "b774f752-8c27-4f2e-9383-567929e78d47",
   "metadata": {},
   "outputs": [],
   "source": [
    "y_predicted = [1,1,0,0,1]\n",
    "y_true = [0.30,0.7,1,0,0.5]"
   ]
  },
  {
   "cell_type": "code",
   "execution_count": 16,
   "id": "244e8d63-f8eb-4551-aa23-848df5fbf356",
   "metadata": {},
   "outputs": [
    {
     "data": {
      "text/plain": [
       "[1, 1, 1e-15, 1e-15, 1]"
      ]
     },
     "execution_count": 16,
     "metadata": {},
     "output_type": "execute_result"
    }
   ],
   "source": [
    "epsilon = 1e-15\n",
    "y_predicted_new = [max(i, epsilon) for i in y_predicted]\n",
    "y_predicted_new"
   ]
  },
  {
   "cell_type": "code",
   "execution_count": 18,
   "id": "4cf008f4-d3fa-476f-95d3-87f145e9c99c",
   "metadata": {},
   "outputs": [
    {
     "data": {
      "text/plain": [
       "[0.999999999999999, 0.999999999999999, 1e-15, 1e-15, 0.999999999999999]"
      ]
     },
     "execution_count": 18,
     "metadata": {},
     "output_type": "execute_result"
    }
   ],
   "source": [
    "y_predicted_new = [min(i, 1-epsilon) for i in y_predicted_new]\n",
    "y_predicted_new"
   ]
  },
  {
   "cell_type": "code",
   "execution_count": 25,
   "id": "11d59541-d85f-442e-b436-3d4e5cbb3d52",
   "metadata": {},
   "outputs": [],
   "source": [
    "def log_loss(y_true, y_predicted):\n",
    "    epsilon = 1e-15\n",
    "    y_predicted_new = [max(i, epsilon) for i in y_predicted]\n",
    "    y_predicted_new = [min(i, 1-epsilon) for i in y_predicted_new]\n",
    "    y_predicted_new = np.array(y_predicted_new)\n",
    "    y_true = np.array(y_true)\n",
    "    return -np.mean(y_true*np.log(y_predicted_new)+(1-y_true)*np.log(1-y_predicted_new))"
   ]
  },
  {
   "cell_type": "code",
   "execution_count": 26,
   "id": "44d63460-5942-4322-953a-049054dea491",
   "metadata": {},
   "outputs": [
    {
     "data": {
      "text/plain": [
       "np.float64(17.2696280766844)"
      ]
     },
     "execution_count": 26,
     "metadata": {},
     "output_type": "execute_result"
    }
   ],
   "source": [
    "log_loss(y_true, y_predicted)"
   ]
  },
  {
   "cell_type": "code",
   "execution_count": null,
   "id": "1fe2af1c-7339-41a8-9654-5fe85956bc95",
   "metadata": {},
   "outputs": [],
   "source": []
  }
 ],
 "metadata": {
  "kernelspec": {
   "display_name": "Python 3 (ipykernel)",
   "language": "python",
   "name": "python3"
  },
  "language_info": {
   "codemirror_mode": {
    "name": "ipython",
    "version": 3
   },
   "file_extension": ".py",
   "mimetype": "text/x-python",
   "name": "python",
   "nbconvert_exporter": "python",
   "pygments_lexer": "ipython3",
   "version": "3.13.2"
  }
 },
 "nbformat": 4,
 "nbformat_minor": 5
}
